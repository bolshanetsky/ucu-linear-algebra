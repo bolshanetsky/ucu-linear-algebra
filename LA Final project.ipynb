{
 "cells": [
  {
   "cell_type": "markdown",
   "metadata": {},
   "source": [
    "**Paragraph 2.1**\n",
    "Calculation of pi vector throgh raising P matrix to power of 2, 32:"
   ]
  },
  {
   "cell_type": "code",
   "execution_count": 3,
   "metadata": {},
   "outputs": [
    {
     "data": {
      "text/plain": [
       "array([[0.5       , 0.16666667, 0.16666667, 0.        , 0.61111111],\n",
       "       [0.        , 0.66666667, 0.44444444, 1.        , 0.11111111],\n",
       "       [0.5       , 0.        , 0.27777778, 0.        , 0.16666667],\n",
       "       [0.        , 0.        , 0.11111111, 0.        , 0.        ],\n",
       "       [0.        , 0.16666667, 0.        , 0.        , 0.11111111]])"
      ]
     },
     "execution_count": 3,
     "metadata": {},
     "output_type": "execute_result"
    }
   ],
   "source": [
    "from numpy import *\n",
    "\n",
    "P = array([ [0, 1/2.0, 1/3.0, 1, 0    ],\n",
    "            [1, 0,     1/3.0, 0, 1/3.0],\n",
    "            [0, 1/2.0, 0,     0, 1/3.0],\n",
    "            [0, 0,     0,     0, 1/3.0],\n",
    "            [0, 0,     1/3.0, 0, 0    ] ])\n",
    "\n",
    "# P in power 2\n",
    "dot(P, P)"
   ]
  },
  {
   "cell_type": "code",
   "execution_count": 4,
   "metadata": {},
   "outputs": [
    {
     "data": {
      "text/plain": [
       "array([[0.2926887 , 0.29267874, 0.2926823 , 0.29267624, 0.29268625],\n",
       "       [0.39023707, 0.39025042, 0.39024059, 0.39024865, 0.39024485],\n",
       "       [0.2195134 , 0.21950912, 0.21951777, 0.21951526, 0.21950602],\n",
       "       [0.02438908, 0.02439058, 0.02439168, 0.02439262, 0.024388  ],\n",
       "       [0.07317175, 0.07317113, 0.07316766, 0.07316723, 0.07317488]])"
      ]
     },
     "execution_count": 4,
     "metadata": {},
     "output_type": "execute_result"
    }
   ],
   "source": [
    "# P in power 32\n",
    "linalg.matrix_power(P, 32)"
   ]
  },
  {
   "cell_type": "markdown",
   "metadata": {},
   "source": [
    "**Paragraph 3.2**\n",
    "Computing egenvectors using power method"
   ]
  },
  {
   "cell_type": "code",
   "execution_count": 8,
   "metadata": {},
   "outputs": [
    {
     "data": {
      "text/plain": [
       "array([0.29280598, 0.39024762, 0.21932759, 0.02431712, 0.07330169])"
      ]
     },
     "execution_count": 8,
     "metadata": {},
     "output_type": "execute_result"
    }
   ],
   "source": [
    "# Basic power method without matrix transformations\n",
    "def powerMethodBasic(A,x0,iter):\n",
    " \"\"\" basic power method \"\"\"\n",
    " for i in range(iter):\n",
    "  x0 = dot(A,x0)\n",
    "  x0 = x0/linalg.norm(x0,1)\n",
    " return x0\n",
    "\n",
    "# Basic parameters\n",
    "n = P.shape[1]\n",
    "x0 = [1]*n\n",
    "powerMethodBasic(P, x0, 15)"
   ]
  },
  {
   "cell_type": "markdown",
   "metadata": {},
   "source": [
    "As we can see this basic power method converges already after 15 iterations."
   ]
  },
  {
   "cell_type": "code",
   "execution_count": 9,
   "metadata": {},
   "outputs": [
    {
     "data": {
      "text/plain": [
       "array([0.28856915, 0.35939074, 0.20793352, 0.05519244, 0.0889145 ])"
      ]
     },
     "execution_count": 9,
     "metadata": {},
     "output_type": "execute_result"
    }
   ],
   "source": [
    "def powerMethodAdvanced(A,x0,m,iter):\n",
    "    \"\"\" power method changed to compute\n",
    "        the maximal eigenvector\n",
    "        of the matrix M built on top of the matrix P\"\"\"\n",
    "    n = P.shape[1]\n",
    "    delta = m*(array([1]*n,dtype='float64')/n) # array([1]*n is [1 1 ... 1] n times\n",
    "    for i in range(iter):\n",
    "        x0 = dot((1-m),dot(A,x0)) + delta\n",
    "    return x0\n",
    "\n",
    "m = 0.15\n",
    "powerMethodAdvanced(P, x0, m, 100)"
   ]
  },
  {
   "cell_type": "markdown",
   "metadata": {
    "collapsed": true
   },
   "source": [
    "As we can see modified power method produces slightly different results from basic one. But it handles corner cases as it's described in the report and the actual score order didn't change."
   ]
  }
 ],
 "metadata": {
  "kernelspec": {
   "display_name": "Python 2",
   "language": "python",
   "name": "python2"
  },
  "language_info": {
   "codemirror_mode": {
    "name": "ipython",
    "version": 2
   },
   "file_extension": ".py",
   "mimetype": "text/x-python",
   "name": "python",
   "nbconvert_exporter": "python",
   "pygments_lexer": "ipython2",
   "version": "2.7.13"
  }
 },
 "nbformat": 4,
 "nbformat_minor": 2
}
