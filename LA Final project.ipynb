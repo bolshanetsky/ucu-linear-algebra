{
 "cells": [
  {
   "cell_type": "markdown",
   "metadata": {},
   "source": [
    "**Paragraph 2.1**\n",
    "Calculation of pi vector throgh raising P matrix to power of 2, 32:"
   ]
  },
  {
   "cell_type": "code",
   "execution_count": null,
   "metadata": {
    "collapsed": true
   },
   "outputs": [],
   "source": [
    "P = array([ [0, 1/2.0, 1/3.0, 1, 0    ],\n",
    "            [1, 0,     1/3.0, 0, 1/3.0],\n",
    "            [0, 1/2.0, 0,     0, 1/3.0],\n",
    "            [0, 0,     0,     0, 1/3.0],\n",
    "            [0, 0,     1/3.0, 0, 0    ] ])\n",
    "\n"
   ]
  },
  {
   "cell_type": "code",
   "execution_count": 18,
   "metadata": {
    "collapsed": true
   },
   "outputs": [],
   "source": [
    "from numpy import *\n",
    "\n",
    "def powerMethod(A,x0,m,iter):\n",
    "    \"\"\" power method modified to compute\n",
    "        the maximal real eigenvector\n",
    "        of the matrix M built on top of the input matrix A \"\"\"\n",
    "    n = A.shape[1]\n",
    "    delta = m*(array([1]*n,dtype='float64')/n) # array([1]*n is [1 1 ... 1] n times\n",
    "    for i in range(iter):\n",
    "        x0 = dot((1-m),dot(A,x0)) + delta\n",
    "    return x0\n",
    "\n",
    "def powerMethodBase(A,x0,iter):\n",
    " \"\"\" basic power method \"\"\"\n",
    " for i in range(iter):\n",
    "  x0 = dot(A,x0)\n",
    "  x0 = x0/linalg.norm(x0,1)\n",
    " return x0\n"
   ]
  },
  {
   "cell_type": "code",
   "execution_count": 19,
   "metadata": {},
   "outputs": [
    {
     "data": {
      "text/plain": [
       "array([0.29268293, 0.3902439 , 0.2195122 , 0.02439024, 0.07317073])"
      ]
     },
     "execution_count": 19,
     "metadata": {},
     "output_type": "execute_result"
    }
   ],
   "source": [
    "\n",
    "n = A.shape[1]\n",
    "x0 = [1]*n\n",
    "m = 0.15\n",
    "# powerMethod(A,x0, m, 10000000)\n",
    "powerMethodBase(A, x0, 10000)\n"
   ]
  },
  {
   "cell_type": "code",
   "execution_count": null,
   "metadata": {
    "collapsed": true
   },
   "outputs": [],
   "source": []
  }
 ],
 "metadata": {
  "kernelspec": {
   "display_name": "Python 2",
   "language": "python",
   "name": "python2"
  },
  "language_info": {
   "codemirror_mode": {
    "name": "ipython",
    "version": 2
   },
   "file_extension": ".py",
   "mimetype": "text/x-python",
   "name": "python",
   "nbconvert_exporter": "python",
   "pygments_lexer": "ipython2",
   "version": "2.7.13"
  }
 },
 "nbformat": 4,
 "nbformat_minor": 2
}
